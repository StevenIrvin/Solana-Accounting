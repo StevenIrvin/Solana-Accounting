{
 "cells": [
  {
   "metadata": {
    "ExecuteTime": {
     "end_time": "2025-01-24T06:53:29.465966Z",
     "start_time": "2025-01-24T06:53:29.233716Z"
    }
   },
   "cell_type": "code",
   "source": [
    "import time\n",
    "import pytz\n",
    "import pandas as pd\n",
    "import base58\n",
    "import datetime\n",
    "from solana.rpc.api import Client\n",
    "from solders.pubkey import Pubkey"
   ],
   "id": "4c66304cef2c4360",
   "outputs": [],
   "execution_count": 1
  },
  {
   "metadata": {
    "ExecuteTime": {
     "end_time": "2025-01-24T06:53:30.560230Z",
     "start_time": "2025-01-24T06:53:30.554312Z"
    }
   },
   "cell_type": "code",
   "source": [
    "class TransactionLine:\n",
    "    def __init__(self, pubkey, tx, tx_detail):\n",
    "        self.pubkey = pubkey\n",
    "        self.tx = tx\n",
    "        self.tx_detail = tx_detail\n",
    "    \n",
    "    @property\n",
    "    def time(self):\n",
    "        dt_object = datetime.datetime.fromtimestamp(self.tx.block_time, pytz.utc)\n",
    "        pst_timezone = pytz.timezone('US/Pacific')\n",
    "        pst_time = dt_object.astimezone(pst_timezone)\n",
    "        return pst_time.strftime('%Y-%m-%d %I:%M:%S %p')\n",
    "    \n",
    "    @property\n",
    "    def _pre_balances(self):\n",
    "        return [bal / 1e9 for bal in self.tx_detail.value.transaction.meta.pre_balances]\n",
    "\n",
    "    @property\n",
    "    def _post_balances(self):\n",
    "        return [bal / 1e9 for bal in self.tx_detail.value.transaction.meta.post_balances]\n",
    "\n",
    "    @property\n",
    "    def _account_keys(self):\n",
    "        return [key.__str__() for key in tx_details.value.transaction.transaction.message.account_keys]\n",
    "    \n",
    "    @property\n",
    "    def _self_index(self):\n",
    "        for i, key in enumerate(self._account_keys):\n",
    "            if key == self.pubkey:\n",
    "                return i\n",
    "    \n",
    "    @property\n",
    "    def balance(self):\n",
    "        return self._post_balances[self._self_index]\n",
    "\n",
    "    @property\n",
    "    def amount(self):\n",
    "        index = self._self_index\n",
    "        return self._post_balances[index] - self._pre_balances[index]\n",
    "\n",
    "    @property\n",
    "    def to_dict(self):\n",
    "        return {\n",
    "            'time': self.time,\n",
    "            'amount': self.amount,\n",
    "            'balance': self.balance,\n",
    "        }\n",
    "        "
   ],
   "id": "49429d629f46facd",
   "outputs": [],
   "execution_count": 2
  },
  {
   "metadata": {
    "ExecuteTime": {
     "end_time": "2025-01-24T06:53:31.549035Z",
     "start_time": "2025-01-24T06:53:31.484802Z"
    }
   },
   "cell_type": "code",
   "source": [
    "client = Client(\"https://api.mainnet-beta.solana.com\")\n",
    "\n",
    "wallet_address = \"NLMSHTjmSiRxGJPs3uaqtsFBC2dTGYwK41U18Nmw5kH\"\n",
    "\n",
    "def get_transactions(wallet_address):\n",
    "    return client.get_signatures_for_address(Pubkey(wallet_address))\n",
    "\n",
    "def calculate_total_value(transactions):\n",
    "    total_value = 0\n",
    "    for tx in transactions:\n",
    "        tx_details = client.get_transaction(tx.signature)\n",
    "        for instruction in tx_details['result']['transaction']['message']['instructions']:\n",
    "            if 'parsed' in instruction:\n",
    "                if instruction['parsed']['type'] == 'transfer':\n",
    "                    total_value += int(instruction['parsed']['info']['lamports'])\n",
    "    return total_value"
   ],
   "id": "73bb7c8b32ed4656",
   "outputs": [],
   "execution_count": 3
  },
  {
   "metadata": {
    "ExecuteTime": {
     "end_time": "2025-01-24T06:53:33.370512Z",
     "start_time": "2025-01-24T06:53:32.243750Z"
    }
   },
   "cell_type": "code",
   "source": [
    "decoded_address = base58.b58decode(wallet_address)\n",
    "transactions = get_transactions(decoded_address)"
   ],
   "id": "c9ebe4a699ec83b5",
   "outputs": [],
   "execution_count": 4
  },
  {
   "metadata": {
    "ExecuteTime": {
     "end_time": "2025-01-24T06:54:05.708206Z",
     "start_time": "2025-01-24T06:53:33.381817Z"
    }
   },
   "cell_type": "code",
   "source": [
    "lines = []\n",
    "for i, transaction in enumerate(transactions.value):\n",
    "    if i > 5:\n",
    "        break\n",
    "    time.sleep(5) # temp sleep since we're using public rpc\n",
    "    tx_details = client.get_transaction(transaction.signature)\n",
    "    lines.append(TransactionLine(wallet_address, transaction, tx_details).to_dict)"
   ],
   "id": "3f266eb5ed946457",
   "outputs": [],
   "execution_count": 5
  },
  {
   "metadata": {
    "ExecuteTime": {
     "end_time": "2025-01-24T06:54:05.722955Z",
     "start_time": "2025-01-24T06:54:05.710235Z"
    }
   },
   "cell_type": "code",
   "source": "pd.DataFrame(lines)",
   "id": "c9ab98cc0a4504c4",
   "outputs": [
    {
     "data": {
      "text/plain": [
       "                     time    amount   balance\n",
       "0  2025-01-23 10:53:19 PM -0.000005  7.302460\n",
       "1  2025-01-23 10:53:19 PM -0.000005  7.302465\n",
       "2  2025-01-23 10:53:18 PM -0.000005  7.302470\n",
       "3  2025-01-23 10:53:18 PM -0.000005  7.302475\n",
       "4  2025-01-23 10:53:17 PM -0.000005  7.302480\n",
       "5  2025-01-23 10:53:17 PM -0.000005  7.302485"
      ],
      "text/html": [
       "<div>\n",
       "<style scoped>\n",
       "    .dataframe tbody tr th:only-of-type {\n",
       "        vertical-align: middle;\n",
       "    }\n",
       "\n",
       "    .dataframe tbody tr th {\n",
       "        vertical-align: top;\n",
       "    }\n",
       "\n",
       "    .dataframe thead th {\n",
       "        text-align: right;\n",
       "    }\n",
       "</style>\n",
       "<table border=\"1\" class=\"dataframe\">\n",
       "  <thead>\n",
       "    <tr style=\"text-align: right;\">\n",
       "      <th></th>\n",
       "      <th>time</th>\n",
       "      <th>amount</th>\n",
       "      <th>balance</th>\n",
       "    </tr>\n",
       "  </thead>\n",
       "  <tbody>\n",
       "    <tr>\n",
       "      <th>0</th>\n",
       "      <td>2025-01-23 10:53:19 PM</td>\n",
       "      <td>-0.000005</td>\n",
       "      <td>7.302460</td>\n",
       "    </tr>\n",
       "    <tr>\n",
       "      <th>1</th>\n",
       "      <td>2025-01-23 10:53:19 PM</td>\n",
       "      <td>-0.000005</td>\n",
       "      <td>7.302465</td>\n",
       "    </tr>\n",
       "    <tr>\n",
       "      <th>2</th>\n",
       "      <td>2025-01-23 10:53:18 PM</td>\n",
       "      <td>-0.000005</td>\n",
       "      <td>7.302470</td>\n",
       "    </tr>\n",
       "    <tr>\n",
       "      <th>3</th>\n",
       "      <td>2025-01-23 10:53:18 PM</td>\n",
       "      <td>-0.000005</td>\n",
       "      <td>7.302475</td>\n",
       "    </tr>\n",
       "    <tr>\n",
       "      <th>4</th>\n",
       "      <td>2025-01-23 10:53:17 PM</td>\n",
       "      <td>-0.000005</td>\n",
       "      <td>7.302480</td>\n",
       "    </tr>\n",
       "    <tr>\n",
       "      <th>5</th>\n",
       "      <td>2025-01-23 10:53:17 PM</td>\n",
       "      <td>-0.000005</td>\n",
       "      <td>7.302485</td>\n",
       "    </tr>\n",
       "  </tbody>\n",
       "</table>\n",
       "</div>"
      ]
     },
     "execution_count": 6,
     "metadata": {},
     "output_type": "execute_result"
    }
   ],
   "execution_count": 6
  },
  {
   "metadata": {},
   "cell_type": "code",
   "outputs": [],
   "execution_count": null,
   "source": "",
   "id": "8de5ddfbae7f1d3d"
  }
 ],
 "metadata": {
  "kernelspec": {
   "display_name": "Python 3",
   "language": "python",
   "name": "python3"
  },
  "language_info": {
   "codemirror_mode": {
    "name": "ipython",
    "version": 2
   },
   "file_extension": ".py",
   "mimetype": "text/x-python",
   "name": "python",
   "nbconvert_exporter": "python",
   "pygments_lexer": "ipython2",
   "version": "2.7.6"
  }
 },
 "nbformat": 4,
 "nbformat_minor": 5
}
