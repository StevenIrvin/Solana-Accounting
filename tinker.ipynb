{
 "cells": [
  {
   "metadata": {
    "ExecuteTime": {
     "end_time": "2025-01-24T07:19:34.868110Z",
     "start_time": "2025-01-24T07:19:34.620357Z"
    }
   },
   "cell_type": "code",
   "source": [
    "import time\n",
    "import pytz\n",
    "import pandas as pd\n",
    "import base58\n",
    "import datetime\n",
    "from solana.rpc.api import Client\n",
    "from solders.pubkey import Pubkey"
   ],
   "id": "4c66304cef2c4360",
   "outputs": [],
   "execution_count": 1
  },
  {
   "metadata": {
    "ExecuteTime": {
     "end_time": "2025-01-24T07:19:37.783587Z",
     "start_time": "2025-01-24T07:19:37.777115Z"
    }
   },
   "cell_type": "code",
   "source": [
    "class TransactionLine:\n",
    "    def __init__(self, pubkey, tx, tx_detail):\n",
    "        self.pubkey = pubkey\n",
    "        self.tx = tx\n",
    "        self.tx_detail = tx_detail\n",
    "    \n",
    "    @property\n",
    "    def time(self):\n",
    "        dt_object = datetime.datetime.fromtimestamp(self.tx.block_time, pytz.utc)\n",
    "        pst_timezone = pytz.timezone('US/Pacific')\n",
    "        pst_time = dt_object.astimezone(pst_timezone)\n",
    "        return pst_time.strftime('%Y-%m-%d %I:%M:%S %p')\n",
    "    \n",
    "    @property\n",
    "    def _pre_balances(self):\n",
    "        return [bal / 1e9 for bal in self.tx_detail.value.transaction.meta.pre_balances]\n",
    "\n",
    "    @property\n",
    "    def _post_balances(self):\n",
    "        return [bal / 1e9 for bal in self.tx_detail.value.transaction.meta.post_balances]\n",
    "\n",
    "    @property\n",
    "    def _account_keys(self):\n",
    "        return [key.__str__() for key in tx_details.value.transaction.transaction.message.account_keys]\n",
    "    \n",
    "    @property\n",
    "    def _self_index(self):\n",
    "        for i, key in enumerate(self._account_keys):\n",
    "            if key == self.pubkey:\n",
    "                return i\n",
    "    \n",
    "    @property\n",
    "    def balance(self):\n",
    "        return self._post_balances[self._self_index]\n",
    "\n",
    "    @property\n",
    "    def amount(self):\n",
    "        index = self._self_index\n",
    "        return self._post_balances[index] - self._pre_balances[index]\n",
    "\n",
    "    @property\n",
    "    def to_dict(self):\n",
    "        return {\n",
    "            'time': self.time,\n",
    "            'amount': self.amount,\n",
    "            'balance': self.balance,\n",
    "        }\n",
    "        "
   ],
   "id": "49429d629f46facd",
   "outputs": [],
   "execution_count": 2
  },
  {
   "metadata": {
    "ExecuteTime": {
     "end_time": "2025-01-24T07:28:05.933137Z",
     "start_time": "2025-01-24T07:28:05.910310Z"
    }
   },
   "cell_type": "code",
   "source": [
    "# client = Client(\"https://api.mainnet-beta.solana.com\")\n",
    "client = Client(\"http://127.0.0.1:8899\")\n",
    "\n",
    "wallet_address = \"NLMSHTjmSiRxGJPs3uaqtsFBC2dTGYwK41U18Nmw5kH\"\n",
    "\n",
    "def get_transactions(wallet_address):\n",
    "    return client.get_signatures_for_address(Pubkey(wallet_address))\n",
    "\n",
    "def calculate_total_value(transactions):\n",
    "    total_value = 0\n",
    "    for tx in transactions:\n",
    "        tx_details = client.get_transaction(tx.signature)\n",
    "        for instruction in tx_details['result']['transaction']['message']['instructions']:\n",
    "            if 'parsed' in instruction:\n",
    "                if instruction['parsed']['type'] == 'transfer':\n",
    "                    total_value += int(instruction['parsed']['info']['lamports'])\n",
    "    return total_value"
   ],
   "id": "73bb7c8b32ed4656",
   "outputs": [],
   "execution_count": 8
  },
  {
   "metadata": {
    "ExecuteTime": {
     "end_time": "2025-01-24T07:38:49.586493Z",
     "start_time": "2025-01-24T07:38:49.500190Z"
    }
   },
   "cell_type": "code",
   "source": [
    "decoded_address = base58.b58decode(wallet_address)\n",
    "transactions = get_transactions(decoded_address)"
   ],
   "id": "c9ebe4a699ec83b5",
   "outputs": [],
   "execution_count": 10
  },
  {
   "metadata": {
    "ExecuteTime": {
     "end_time": "2025-01-24T07:39:49.492342Z",
     "start_time": "2025-01-24T07:39:45.766533Z"
    }
   },
   "cell_type": "code",
   "source": [
    "lines = []\n",
    "for i, transaction in enumerate(transactions.value):\n",
    "    if i > 500:\n",
    "        break\n",
    "    # time.sleep(5) # temp sleep since we're using public rpc\n",
    "    tx_details = client.get_transaction(transaction.signature)\n",
    "    lines.append(TransactionLine(wallet_address, transaction, tx_details).to_dict)"
   ],
   "id": "3f266eb5ed946457",
   "outputs": [],
   "execution_count": 16
  },
  {
   "metadata": {
    "ExecuteTime": {
     "end_time": "2025-01-24T07:39:49.499624Z",
     "start_time": "2025-01-24T07:39:49.493531Z"
    }
   },
   "cell_type": "code",
   "source": "pd.DataFrame(lines)",
   "id": "c9ab98cc0a4504c4",
   "outputs": [
    {
     "data": {
      "text/plain": [
       "                       time    amount   balance\n",
       "0    2025-01-23 11:35:39 PM -0.000005  7.271170\n",
       "1    2025-01-23 11:35:38 PM -0.000005  7.271175\n",
       "2    2025-01-23 11:35:38 PM -0.000005  7.271180\n",
       "3    2025-01-23 11:35:37 PM -0.000005  7.271185\n",
       "4    2025-01-23 11:35:37 PM -0.000005  7.271190\n",
       "..                      ...       ...       ...\n",
       "496  2025-01-23 11:32:17 PM -0.000005  7.273650\n",
       "497  2025-01-23 11:32:17 PM -0.000005  7.273655\n",
       "498  2025-01-23 11:32:17 PM -0.000005  7.273660\n",
       "499  2025-01-23 11:32:16 PM -0.000005  7.273665\n",
       "500  2025-01-23 11:32:16 PM -0.000005  7.273670\n",
       "\n",
       "[501 rows x 3 columns]"
      ],
      "text/html": [
       "<div>\n",
       "<style scoped>\n",
       "    .dataframe tbody tr th:only-of-type {\n",
       "        vertical-align: middle;\n",
       "    }\n",
       "\n",
       "    .dataframe tbody tr th {\n",
       "        vertical-align: top;\n",
       "    }\n",
       "\n",
       "    .dataframe thead th {\n",
       "        text-align: right;\n",
       "    }\n",
       "</style>\n",
       "<table border=\"1\" class=\"dataframe\">\n",
       "  <thead>\n",
       "    <tr style=\"text-align: right;\">\n",
       "      <th></th>\n",
       "      <th>time</th>\n",
       "      <th>amount</th>\n",
       "      <th>balance</th>\n",
       "    </tr>\n",
       "  </thead>\n",
       "  <tbody>\n",
       "    <tr>\n",
       "      <th>0</th>\n",
       "      <td>2025-01-23 11:35:39 PM</td>\n",
       "      <td>-0.000005</td>\n",
       "      <td>7.271170</td>\n",
       "    </tr>\n",
       "    <tr>\n",
       "      <th>1</th>\n",
       "      <td>2025-01-23 11:35:38 PM</td>\n",
       "      <td>-0.000005</td>\n",
       "      <td>7.271175</td>\n",
       "    </tr>\n",
       "    <tr>\n",
       "      <th>2</th>\n",
       "      <td>2025-01-23 11:35:38 PM</td>\n",
       "      <td>-0.000005</td>\n",
       "      <td>7.271180</td>\n",
       "    </tr>\n",
       "    <tr>\n",
       "      <th>3</th>\n",
       "      <td>2025-01-23 11:35:37 PM</td>\n",
       "      <td>-0.000005</td>\n",
       "      <td>7.271185</td>\n",
       "    </tr>\n",
       "    <tr>\n",
       "      <th>4</th>\n",
       "      <td>2025-01-23 11:35:37 PM</td>\n",
       "      <td>-0.000005</td>\n",
       "      <td>7.271190</td>\n",
       "    </tr>\n",
       "    <tr>\n",
       "      <th>...</th>\n",
       "      <td>...</td>\n",
       "      <td>...</td>\n",
       "      <td>...</td>\n",
       "    </tr>\n",
       "    <tr>\n",
       "      <th>496</th>\n",
       "      <td>2025-01-23 11:32:17 PM</td>\n",
       "      <td>-0.000005</td>\n",
       "      <td>7.273650</td>\n",
       "    </tr>\n",
       "    <tr>\n",
       "      <th>497</th>\n",
       "      <td>2025-01-23 11:32:17 PM</td>\n",
       "      <td>-0.000005</td>\n",
       "      <td>7.273655</td>\n",
       "    </tr>\n",
       "    <tr>\n",
       "      <th>498</th>\n",
       "      <td>2025-01-23 11:32:17 PM</td>\n",
       "      <td>-0.000005</td>\n",
       "      <td>7.273660</td>\n",
       "    </tr>\n",
       "    <tr>\n",
       "      <th>499</th>\n",
       "      <td>2025-01-23 11:32:16 PM</td>\n",
       "      <td>-0.000005</td>\n",
       "      <td>7.273665</td>\n",
       "    </tr>\n",
       "    <tr>\n",
       "      <th>500</th>\n",
       "      <td>2025-01-23 11:32:16 PM</td>\n",
       "      <td>-0.000005</td>\n",
       "      <td>7.273670</td>\n",
       "    </tr>\n",
       "  </tbody>\n",
       "</table>\n",
       "<p>501 rows × 3 columns</p>\n",
       "</div>"
      ]
     },
     "execution_count": 17,
     "metadata": {},
     "output_type": "execute_result"
    }
   ],
   "execution_count": 17
  },
  {
   "metadata": {},
   "cell_type": "code",
   "outputs": [],
   "execution_count": null,
   "source": "",
   "id": "8de5ddfbae7f1d3d"
  }
 ],
 "metadata": {
  "kernelspec": {
   "display_name": "Python 3",
   "language": "python",
   "name": "python3"
  },
  "language_info": {
   "codemirror_mode": {
    "name": "ipython",
    "version": 2
   },
   "file_extension": ".py",
   "mimetype": "text/x-python",
   "name": "python",
   "nbconvert_exporter": "python",
   "pygments_lexer": "ipython2",
   "version": "2.7.6"
  }
 },
 "nbformat": 4,
 "nbformat_minor": 5
}
