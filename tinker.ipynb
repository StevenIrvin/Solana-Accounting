{
 "cells": [
  {
   "metadata": {
    "ExecuteTime": {
     "end_time": "2025-01-28T02:27:22.945512Z",
     "start_time": "2025-01-28T02:27:22.441028Z"
    }
   },
   "cell_type": "code",
   "source": [
    "import time\n",
    "import pytz\n",
    "import pandas as pd\n",
    "import base58\n",
    "import datetime\n",
    "from solana.rpc.api import Client\n",
    "from solders.pubkey import Pubkey\n",
    "\n",
    "pd.options.display.max_rows = 500"
   ],
   "id": "4c66304cef2c4360",
   "outputs": [],
   "execution_count": 1
  },
  {
   "metadata": {
    "ExecuteTime": {
     "end_time": "2025-01-28T02:27:23.157515Z",
     "start_time": "2025-01-28T02:27:23.153156Z"
    }
   },
   "cell_type": "code",
   "source": [
    "class TransactionTypes:\n",
    "    vote = \"VOTE\"\n",
    "    sell = \"SELL\"\n",
    "    transfer = \"TRANSFER\"\n",
    "    reimburse = \"REIMBURSE\"\n",
    "    rewards = \"REWARDS\"\n",
    "\n",
    "class TransactionLine:\n",
    "    def __init__(self, pubkey, tx, tx_detail):\n",
    "        self.pubkey = pubkey\n",
    "        self.tx = tx\n",
    "        self.tx_detail = tx_detail\n",
    "    \n",
    "    @property\n",
    "    def time(self):\n",
    "        dt_object = datetime.datetime.fromtimestamp(self.tx.block_time, pytz.utc)\n",
    "        pst_timezone = pytz.timezone('US/Pacific')\n",
    "        pst_time = dt_object.astimezone(pst_timezone)\n",
    "        return pst_time.strftime('%Y-%m-%d %I:%M:%S %p')\n",
    "    \n",
    "    @property\n",
    "    def _pre_balances(self):\n",
    "        return [bal / 1e9 for bal in self.tx_detail.value.transaction.meta.pre_balances]\n",
    "\n",
    "    @property\n",
    "    def _post_balances(self):\n",
    "        return [bal / 1e9 for bal in self.tx_detail.value.transaction.meta.post_balances]\n",
    "\n",
    "    @property\n",
    "    def _account_keys(self):\n",
    "        return [key.__str__() for key in tx_details.value.transaction.transaction.message.account_keys]\n",
    "    \n",
    "    @property\n",
    "    def _self_index(self):\n",
    "        for i, key in enumerate(self._account_keys):\n",
    "            if key == self.pubkey:\n",
    "                return i\n",
    "    \n",
    "    @property\n",
    "    def balance(self):\n",
    "        return self._post_balances[self._self_index]\n",
    "\n",
    "    @property\n",
    "    def amount(self):\n",
    "        index = self._self_index\n",
    "        return self._post_balances[index] - self._pre_balances[index]\n",
    "    \n",
    "    @property\n",
    "    def type(self):\n",
    "        vote_program_id = \"Vote111111111111111111111111111111111111111\"\n",
    "        if vote_program_id in self._account_keys:\n",
    "            return TransactionTypes.vote\n",
    "\n",
    "    @property\n",
    "    def to_dict(self):\n",
    "        return {\n",
    "            'time': self.time,\n",
    "            'amount': self.amount,\n",
    "            'balance': self.balance,\n",
    "            'type': self.type,\n",
    "        }\n",
    "        "
   ],
   "id": "49429d629f46facd",
   "outputs": [],
   "execution_count": 2
  },
  {
   "metadata": {
    "ExecuteTime": {
     "end_time": "2025-01-28T02:27:30.095157Z",
     "start_time": "2025-01-28T02:27:30.041352Z"
    }
   },
   "cell_type": "code",
   "source": [
    "# client = Client(\"https://api.mainnet-beta.solana.com\")\n",
    "client = Client(\"http://127.0.0.1:8899\")\n",
    "\n",
    "wallet_address = \"NLMSHTjmSiRxGJPs3uaqtsFBC2dTGYwK41U18Nmw5kH\"\n",
    "\n",
    "def get_transactions(wallet_address, before):\n",
    "    start = datetime.datetime.now()\n",
    "    if before:\n",
    "        print(f\"Getting transactions from before {str(before)[:3]}...{str(before)[-3:]}: \", end='')\n",
    "    decoded_address = base58.b58decode(wallet_address)\n",
    "    ret = client.get_signatures_for_address(\n",
    "        account=Pubkey(decoded_address), \n",
    "        limit=1000,\n",
    "        before=before,\n",
    "    )\n",
    "    print(datetime.datetime.now() - start)\n",
    "    return ret\n",
    "    \n"
   ],
   "id": "73bb7c8b32ed4656",
   "outputs": [],
   "execution_count": 3
  },
  {
   "metadata": {
    "ExecuteTime": {
     "end_time": "2025-01-28T02:29:54.309983Z",
     "start_time": "2025-01-28T02:27:34.342668Z"
    }
   },
   "cell_type": "code",
   "source": [
    "lines = []\n",
    "before = None\n",
    "\n",
    "while len(lines) < 10000:\n",
    "    tries = 0\n",
    "    transactions = None\n",
    "    while tries < 4:\n",
    "        transactions = get_transactions(wallet_address, before=before).value\n",
    "        if transactions is None or len(transactions) == 0:\n",
    "            print('no transactions')\n",
    "            tries += 1\n",
    "            time.sleep(30)\n",
    "        else:\n",
    "            break\n",
    "\n",
    "    if transactions is None or len(transactions) == 0:\n",
    "        print('Failed to fetch transactions after 4 retries')\n",
    "        break\n",
    "\n",
    "    for transaction in transactions:\n",
    "        tx_details = client.get_transaction(transaction.signature)\n",
    "        lines.append(TransactionLine(wallet_address, transaction, tx_details).to_dict)\n",
    "    \n",
    "    if transactions:\n",
    "        before = transactions[-1].signature"
   ],
   "id": "64c40a8ba33b5696",
   "outputs": [
    {
     "name": "stdout",
     "output_type": "stream",
     "text": [
      "0:00:00.106983\n",
      "Getting transactions from before gR7...t5W: 0:00:00.131902\n",
      "Getting transactions from before 5Kd...tYU: 0:00:00.082915\n",
      "Getting transactions from before 3BY...Bt2: 0:00:00.054183\n",
      "no transactions\n",
      "Getting transactions from before 3BY...Bt2: 0:00:00.001742\n",
      "no transactions\n",
      "Getting transactions from before 3BY...Bt2: 0:00:00.001766\n",
      "no transactions\n",
      "Getting transactions from before 3BY...Bt2: 0:00:00.001490\n",
      "no transactions\n",
      "Failed to fetch transactions after 4 retries\n"
     ]
    }
   ],
   "execution_count": 4
  },
  {
   "metadata": {
    "ExecuteTime": {
     "end_time": "2025-01-28T06:44:57.067127Z",
     "start_time": "2025-01-28T06:44:56.905336Z"
    }
   },
   "cell_type": "code",
   "source": "pd.DataFrame(lines)",
   "id": "c9ab98cc0a4504c4",
   "outputs": [
    {
     "data": {
      "text/plain": [
       "                        time    amount   balance  type\n",
       "0     2025-01-27 06:27:20 PM -0.000005  6.613310  VOTE\n",
       "1     2025-01-27 06:27:20 PM -0.000005  6.613315  VOTE\n",
       "2     2025-01-27 06:27:20 PM -0.000005  6.613320  VOTE\n",
       "3     2025-01-27 06:27:19 PM -0.000005  6.613325  VOTE\n",
       "4     2025-01-27 06:27:19 PM -0.000005  6.613330  VOTE\n",
       "...                      ...       ...       ...   ...\n",
       "2600  2025-01-27 06:09:42 PM -0.000005  6.171834  VOTE\n",
       "2601  2025-01-27 06:09:41 PM -0.000005  6.171839  VOTE\n",
       "2602  2025-01-27 06:09:41 PM -0.000005  6.171844  VOTE\n",
       "2603  2025-01-27 06:09:41 PM -0.000005  6.171849  VOTE\n",
       "2604  2025-01-27 06:09:40 PM -0.000005  6.171854  VOTE\n",
       "\n",
       "[2605 rows x 4 columns]"
      ],
      "text/html": [
       "<div>\n",
       "<style scoped>\n",
       "    .dataframe tbody tr th:only-of-type {\n",
       "        vertical-align: middle;\n",
       "    }\n",
       "\n",
       "    .dataframe tbody tr th {\n",
       "        vertical-align: top;\n",
       "    }\n",
       "\n",
       "    .dataframe thead th {\n",
       "        text-align: right;\n",
       "    }\n",
       "</style>\n",
       "<table border=\"1\" class=\"dataframe\">\n",
       "  <thead>\n",
       "    <tr style=\"text-align: right;\">\n",
       "      <th></th>\n",
       "      <th>time</th>\n",
       "      <th>amount</th>\n",
       "      <th>balance</th>\n",
       "      <th>type</th>\n",
       "    </tr>\n",
       "  </thead>\n",
       "  <tbody>\n",
       "    <tr>\n",
       "      <th>0</th>\n",
       "      <td>2025-01-27 06:27:20 PM</td>\n",
       "      <td>-0.000005</td>\n",
       "      <td>6.613310</td>\n",
       "      <td>VOTE</td>\n",
       "    </tr>\n",
       "    <tr>\n",
       "      <th>1</th>\n",
       "      <td>2025-01-27 06:27:20 PM</td>\n",
       "      <td>-0.000005</td>\n",
       "      <td>6.613315</td>\n",
       "      <td>VOTE</td>\n",
       "    </tr>\n",
       "    <tr>\n",
       "      <th>2</th>\n",
       "      <td>2025-01-27 06:27:20 PM</td>\n",
       "      <td>-0.000005</td>\n",
       "      <td>6.613320</td>\n",
       "      <td>VOTE</td>\n",
       "    </tr>\n",
       "    <tr>\n",
       "      <th>3</th>\n",
       "      <td>2025-01-27 06:27:19 PM</td>\n",
       "      <td>-0.000005</td>\n",
       "      <td>6.613325</td>\n",
       "      <td>VOTE</td>\n",
       "    </tr>\n",
       "    <tr>\n",
       "      <th>4</th>\n",
       "      <td>2025-01-27 06:27:19 PM</td>\n",
       "      <td>-0.000005</td>\n",
       "      <td>6.613330</td>\n",
       "      <td>VOTE</td>\n",
       "    </tr>\n",
       "    <tr>\n",
       "      <th>...</th>\n",
       "      <td>...</td>\n",
       "      <td>...</td>\n",
       "      <td>...</td>\n",
       "      <td>...</td>\n",
       "    </tr>\n",
       "    <tr>\n",
       "      <th>2600</th>\n",
       "      <td>2025-01-27 06:09:42 PM</td>\n",
       "      <td>-0.000005</td>\n",
       "      <td>6.171834</td>\n",
       "      <td>VOTE</td>\n",
       "    </tr>\n",
       "    <tr>\n",
       "      <th>2601</th>\n",
       "      <td>2025-01-27 06:09:41 PM</td>\n",
       "      <td>-0.000005</td>\n",
       "      <td>6.171839</td>\n",
       "      <td>VOTE</td>\n",
       "    </tr>\n",
       "    <tr>\n",
       "      <th>2602</th>\n",
       "      <td>2025-01-27 06:09:41 PM</td>\n",
       "      <td>-0.000005</td>\n",
       "      <td>6.171844</td>\n",
       "      <td>VOTE</td>\n",
       "    </tr>\n",
       "    <tr>\n",
       "      <th>2603</th>\n",
       "      <td>2025-01-27 06:09:41 PM</td>\n",
       "      <td>-0.000005</td>\n",
       "      <td>6.171849</td>\n",
       "      <td>VOTE</td>\n",
       "    </tr>\n",
       "    <tr>\n",
       "      <th>2604</th>\n",
       "      <td>2025-01-27 06:09:40 PM</td>\n",
       "      <td>-0.000005</td>\n",
       "      <td>6.171854</td>\n",
       "      <td>VOTE</td>\n",
       "    </tr>\n",
       "  </tbody>\n",
       "</table>\n",
       "<p>2605 rows × 4 columns</p>\n",
       "</div>"
      ]
     },
     "execution_count": 5,
     "metadata": {},
     "output_type": "execute_result"
    }
   ],
   "execution_count": 5
  },
  {
   "metadata": {
    "ExecuteTime": {
     "end_time": "2025-01-24T08:17:20.475500Z",
     "start_time": "2025-01-24T08:17:20.472714Z"
    }
   },
   "cell_type": "code",
   "source": "len(lines)",
   "id": "8de5ddfbae7f1d3d",
   "outputs": [
    {
     "data": {
      "text/plain": [
       "2606"
      ]
     },
     "execution_count": 100,
     "metadata": {},
     "output_type": "execute_result"
    }
   ],
   "execution_count": 100
  },
  {
   "metadata": {},
   "cell_type": "code",
   "outputs": [],
   "execution_count": null,
   "source": "",
   "id": "832881939ae5cc07"
  }
 ],
 "metadata": {
  "kernelspec": {
   "display_name": "Python 3",
   "language": "python",
   "name": "python3"
  },
  "language_info": {
   "codemirror_mode": {
    "name": "ipython",
    "version": 2
   },
   "file_extension": ".py",
   "mimetype": "text/x-python",
   "name": "python",
   "nbconvert_exporter": "python",
   "pygments_lexer": "ipython2",
   "version": "2.7.6"
  }
 },
 "nbformat": 4,
 "nbformat_minor": 5
}
